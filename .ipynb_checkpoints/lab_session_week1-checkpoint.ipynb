{
 "cells": [
  {
   "cell_type": "markdown",
   "metadata": {},
   "source": [
    "# Probability and an Introduction to Jupyter, Python and Pandas\n",
    "\n",
    "### 29th September 2015 Neil Lawrence\n",
    "\n",
    "Welcome to the Machine Learning and Adaptive Intelligence course. In this course we will introduce the basic concepts of machine learning and data science. In particular we will look at tools and techniques that describe how to model. An integrated part of that is how we approach data with the computer. We are choosing to do that with the tool you see in front of you: the Jupyter Notebook. \n",
    "\n",
    "The notebook provides us with a way of interacting with the data that allows us to give the computer instructions and explore the nature of a data set. It is *different* to normal coding, but it is related. In this course you will, through intensive practical sessions and labs, develop your understanding of the interaction between data and computers. \n",
    "\n",
    "The first thing we are going to do is ask you to forget a bit about what you think about normal programming, or 'classical software engineering'. Classical software engineering demands a large amount of design and testing. In data analysis, testing remains very important, but the design is often evolving. The design evolves through a process known as *exploratory data analysis*. You will learn some of the techniques of exploratory data analysis in this course.\n",
    "\n",
    "A particular difference between classical software engineering and data analysis is the way in which programs are run. Classically we spend a deal of time working with a text editor, writing code. Compilations are done on a regular basis and aspects of the code are tested (perhaps with unit tests). \n",
    "\n",
    "Data analysis is more like coding in a debugger. In a debugger (particularly a visual debugger) you interact with the data stored in the memory of the computer to try and understand what is happening in the computer, you need to understand exactly what your bug is: you often have a fixed idea of what the program is trying to do, you are just struggling to find out why it isn't doing it. \n",
    "\n",
    "Naturally, debugging is an important part of data analysis also, but in some sense it can be seen as its entire premise. You load in a data set into a computer that you don't understand, your entire objective is to understand the data. This is best done by interogating the data to visualise it or summarize it, just like in a power visual debugger. However, for data science the requirements for visualization and summarization are far greater than in a regular program. When the data is well understood, the actual number of lines of your program may well be very few (particularly if you disregard commands that load in the data and commands which plot your results). If a powerful data science library is available, you may be able to summarize your code with just two or three lines, but the amount of intellectual energy that is expended on writing those three lines is far greater than in standard code.\n",
    "\n",
    "In the first lecture we will think a little about 'how we got here' in terms of computer science. In the lecture itself, this will be done by taking a subjective perspective, that of my own 'data autobiography'."
   ]
  },
  {
   "cell_type": "markdown",
   "metadata": {},
   "source": [
    "## Assumed Knowledge\n",
    "\n",
    "### Linear Algebra, Probability and Differential Calculus\n",
    "\n",
    "We will be assuming that you have good background in maths. In particular we will be making use of linear algrebra (matrix operations including inverse, inner products, determinant etc), probability (sum rule of probability, product rule of probability), and the calculus of differentiation (and integration!). A new concept for the course is multivariate differentiation and integration. This combines linear algebra and differential calculus. These techniques are vital in understanding probability distributions over high dimensional distributions. \n",
    "\n",
    "### Choice of Language\n",
    "\n",
    "In this course we will be using Python for our programming language. A prerequisite of attending this course is that you have learnt at least one programming language in the past. It is not our objective to teach you python. At Level 4 and Masters we expect our students to be able pick up a language as they go. If you have not experienced python before it may be worth your while spending some time understanding the language. There are resources available for you to do this [here](https://docs.python.org/2/tutorial/) that are based on the standard console. An introduction to the Jupyter notebook (formerly known as the IPython notebook) is available [here](http://ipython.org/ipython-doc/2/notebook/index.html). "
   ]
  },
  {
   "cell_type": "markdown",
   "metadata": {},
   "source": [
    "### Assignment Question 1\n",
    "\n",
    "Who invented python and why? What was the language designed to do? What is the origin of the name \"python\"? Is the language a compiled language? Is it an object orientated language?\n",
    "\n",
    "*10 marks*"
   ]
  },
  {
   "cell_type": "markdown",
   "metadata": {},
   "source": [
    "#### Question 1 Answer\n",
    "\n",
    "Python is invented by Guido van Rossum while he was looking for a hobby programming project. \n",
    "Guido van Rossum wanted to create a language that it would be a descendant of ABC and appeal to Unix/C hackers. The origin of the name “python” is the British comedy group series Monty Python, a group that the creator of python is a big fan.\n",
    "\n",
    "Python is an interpreted language and not a compiled language, since no seperate compile is required before running the code. In python we can create classes and objects, so we can definetely say that Python is an object-oriented language.\n",
    "\n",
    "##### References\n",
    "\n",
    "1. En.wikipedia.org. (2018). Python (programming language). [online] Available at: https://en.wikipedia.org/wiki/Python_(programming_language) .\n",
    "2. Python.org. (2018). Welcome to Python.org. [online] Available at: https://www.python.org/ ."
   ]
  },
  {
   "cell_type": "markdown",
   "metadata": {},
   "source": [
    "## Choice of Environment\n",
    "\n",
    "We are working in the Jupyter notebook (formerly known as the IPython notebook). It provides an environment for interacting with data in a natural way which is reproducible. We will be learning how to make use of the notebook throughout the course. The notebook allows us to combine code with descriptions, interactive visualizations, plots etc. In fact it allows us to do many of the things we need for data science. Notebooks can also be easily shared through the internet for ease of communication of ideas. The box this text is written in is a *markdown* box. Below we have a *code* box."
   ]
  },
  {
   "cell_type": "code",
   "execution_count": 1,
   "metadata": {},
   "outputs": [
    {
     "name": "stdout",
     "output_type": "stream",
     "text": [
      "This is the Jupyter notebook\n",
      "It provides a platform for:\n",
      "Data Science Open\n",
      "Data Science Open\n",
      "Data Open Science\n"
     ]
    }
   ],
   "source": [
    "print(\"This is the Jupyter notebook\")\n",
    "print(\"It provides a platform for:\")\n",
    "words = ['Open', 'Data', 'Science']\n",
    "from random import shuffle\n",
    "for i in range(3):\n",
    "    shuffle(words)\n",
    "    print(' '.join(words))\n"
   ]
  },
  {
   "cell_type": "markdown",
   "metadata": {},
   "source": [
    "Have a play with the code in the above box. Think about the following questions: what is the difference between `CTRL-enter` and `SHIFT-enter` in running the code? What does the command `shuffle` do? Can you find out by typing `shuffle?` in a code box?\n",
    "Once you've had a play with the code we can load in some data using the `pandas` library for data analysis. "
   ]
  },
  {
   "cell_type": "markdown",
   "metadata": {},
   "source": [
    "## Movie Body Count Example\n",
    "\n",
    "There is a crisis in the movie industry, deaths are occuring on a massive scale. In every feature film the body count is tolling up. But what is the cause of all these deaths? Let's try and investigate.\n",
    "\n",
    "For our first example of data science, we take inspiration from work by [researchers at NJIT](http://www.theswarmlab.com/r-vs-python-round-2/). They researchers were comparing the qualities of Python with R (my brief thoughts on the subject are available in a Google+ post here: https://plus.google.com/116220678599902155344/posts/5iKyqcrNN68). They put together a data base of results from the  the \"Internet Movie Database\" and the [Movie Body Count](http://www.moviebodycounts.com/) website which will allow us to do some preliminary investigation."
   ]
  },
  {
   "cell_type": "markdown",
   "metadata": {},
   "source": [
    "We will make use of data that has already been 'scraped' from the [Movie Body Count](http://www.moviebodycounts.com/) website. Code and the data is available at [a github repository](https://github.com/sjmgarnier/R-vs-Python/tree/master/Deadliest%20movies%20scrape/code). Git is a version control system and github is a website that hosts code that can be accessed through git. By sharing the code publicly through github, the authors are licensing the code publicly and allowing you to access and edit it. As well as accessing the code via github you can also [download the zip file](https://github.com/sjmgarnier/R-vs-Python/archive/master.zip). But let's do that in python"
   ]
  },
  {
   "cell_type": "code",
   "execution_count": 37,
   "metadata": {
    "scrolled": true
   },
   "outputs": [
    {
     "name": "stdout",
     "output_type": "stream",
     "text": [
      "Downloading  https://github.com/sjmgarnier/R-vs-Python/archive/master.zip -> ./master.zip\n",
      "[....                          ]   1.469MB                                                                                                                                                                                                                                                                                                                                                                                                                                                                                                                                                                                                                                                                                                                                                                                                                                                                                                                                                                                                                                                                                                                                                                                                                                                                                                                                                                                                                                                                                                                                                                                                                                                                                                                                                                                                                                                                                                                                                                                                                                                                                                                                                                                                                                                                                                                                                                                                                                                                                                                                                                                                                                                                                                                                                                                                                                                                                                                                                                                                                                                                                                                                                                                                                                                                                                                                                                                                                                                                                                                                                                                                                                                                                                                                                                                                                                                                                                                                                                                                                                                                                                                                                                                                                                                                                                                                                                                                                                                                                                                                                                                                                                                                                                                                                                                                                                                                                                                                                                                                                                                                                                                                                                                                                                                                                                                                                                                                                                                                                                                                                                                                                                                                                                                                                                                                                                                                                                                                                                                                                                                                                                                                                                                                                                                                                                                                                                                                                                                                                                                                                                                                                                                                                                                                                                                                                                                                                                                                                                                                                                                                                                                                                                                                                                                                                                                                                                                                                                                                                                                                                                                                                                                                                                                                                                                                                                                                                                                                                                                                                                                                                                                                                                                                                        \n"
     ]
    }
   ],
   "source": [
    "import pods\n",
    "pods.util.download_url('https://github.com/sjmgarnier/R-vs-Python/archive/master.zip')"
   ]
  },
  {
   "cell_type": "markdown",
   "metadata": {},
   "source": [
    "Once the data is downloaded we can unzip it into the same directory where we are running the lab class. "
   ]
  },
  {
   "cell_type": "code",
   "execution_count": 2,
   "metadata": {},
   "outputs": [],
   "source": [
    "import zipfile\n",
    "zip = zipfile.ZipFile('./master.zip', 'r')\n",
    "for name in zip.namelist():\n",
    "    zip.extract(name, '.')"
   ]
  },
  {
   "cell_type": "code",
   "execution_count": 2,
   "metadata": {},
   "outputs": [],
   "source": [
    "import pandas as pd # import the pandas library into a namespace called pd\n",
    "film_deaths = pd.read_csv('./R-vs-Python-master/Deadliest movies scrape/code/film-death-counts-Python.csv')\n"
   ]
  },
  {
   "cell_type": "markdown",
   "metadata": {},
   "source": [
    "Once it is loaded in the data can be summarized using the `describe` method in pandas.\n"
   ]
  },
  {
   "cell_type": "code",
   "execution_count": 2,
   "metadata": {
    "scrolled": true
   },
   "outputs": [
    {
     "data": {
      "text/html": [
       "<div>\n",
       "<style scoped>\n",
       "    .dataframe tbody tr th:only-of-type {\n",
       "        vertical-align: middle;\n",
       "    }\n",
       "\n",
       "    .dataframe tbody tr th {\n",
       "        vertical-align: top;\n",
       "    }\n",
       "\n",
       "    .dataframe thead th {\n",
       "        text-align: right;\n",
       "    }\n",
       "</style>\n",
       "<table border=\"1\" class=\"dataframe\">\n",
       "  <thead>\n",
       "    <tr style=\"text-align: right;\">\n",
       "      <th></th>\n",
       "      <th>Year</th>\n",
       "      <th>Body_Count</th>\n",
       "      <th>Length_Minutes</th>\n",
       "      <th>IMDB_Rating</th>\n",
       "    </tr>\n",
       "  </thead>\n",
       "  <tbody>\n",
       "    <tr>\n",
       "      <th>count</th>\n",
       "      <td>421.000000</td>\n",
       "      <td>421.000000</td>\n",
       "      <td>421.000000</td>\n",
       "      <td>421.000000</td>\n",
       "    </tr>\n",
       "    <tr>\n",
       "      <th>mean</th>\n",
       "      <td>1996.491686</td>\n",
       "      <td>53.287411</td>\n",
       "      <td>115.427553</td>\n",
       "      <td>6.882898</td>\n",
       "    </tr>\n",
       "    <tr>\n",
       "      <th>std</th>\n",
       "      <td>10.913210</td>\n",
       "      <td>82.068035</td>\n",
       "      <td>21.652287</td>\n",
       "      <td>1.110788</td>\n",
       "    </tr>\n",
       "    <tr>\n",
       "      <th>min</th>\n",
       "      <td>1949.000000</td>\n",
       "      <td>0.000000</td>\n",
       "      <td>79.000000</td>\n",
       "      <td>2.000000</td>\n",
       "    </tr>\n",
       "    <tr>\n",
       "      <th>25%</th>\n",
       "      <td>1991.000000</td>\n",
       "      <td>11.000000</td>\n",
       "      <td>100.000000</td>\n",
       "      <td>6.200000</td>\n",
       "    </tr>\n",
       "    <tr>\n",
       "      <th>50%</th>\n",
       "      <td>2000.000000</td>\n",
       "      <td>28.000000</td>\n",
       "      <td>111.000000</td>\n",
       "      <td>6.900000</td>\n",
       "    </tr>\n",
       "    <tr>\n",
       "      <th>75%</th>\n",
       "      <td>2005.000000</td>\n",
       "      <td>61.000000</td>\n",
       "      <td>127.000000</td>\n",
       "      <td>7.700000</td>\n",
       "    </tr>\n",
       "    <tr>\n",
       "      <th>max</th>\n",
       "      <td>2009.000000</td>\n",
       "      <td>836.000000</td>\n",
       "      <td>201.000000</td>\n",
       "      <td>9.300000</td>\n",
       "    </tr>\n",
       "  </tbody>\n",
       "</table>\n",
       "</div>"
      ],
      "text/plain": [
       "              Year  Body_Count  Length_Minutes  IMDB_Rating\n",
       "count   421.000000  421.000000      421.000000   421.000000\n",
       "mean   1996.491686   53.287411      115.427553     6.882898\n",
       "std      10.913210   82.068035       21.652287     1.110788\n",
       "min    1949.000000    0.000000       79.000000     2.000000\n",
       "25%    1991.000000   11.000000      100.000000     6.200000\n",
       "50%    2000.000000   28.000000      111.000000     6.900000\n",
       "75%    2005.000000   61.000000      127.000000     7.700000\n",
       "max    2009.000000  836.000000      201.000000     9.300000"
      ]
     },
     "execution_count": 2,
     "metadata": {},
     "output_type": "execute_result"
    }
   ],
   "source": [
    "film_deaths.describe()"
   ]
  },
  {
   "cell_type": "markdown",
   "metadata": {},
   "source": [
    "In jupyter and jupyter notebook it is possible to see a list of all possible functions and attributes by typing the name of the object followed by .<Tab> for example in the above case if we type film_deaths.<Tab> it show the columns available (these are attributes in pandas dataframes) such as Body_Count, and also functions, such as .describe().\n",
    "\n",
    "For functions we can also see the documentation about the function by following the name with a question mark. This will open a box with documentation at the bottom which can be closed with the x button."
   ]
  },
  {
   "cell_type": "code",
   "execution_count": 5,
   "metadata": {},
   "outputs": [],
   "source": [
    "film_deaths.describe?"
   ]
  },
  {
   "cell_type": "code",
   "execution_count": 2,
   "metadata": {},
   "outputs": [
    {
     "name": "stdout",
     "output_type": "stream",
     "text": [
      "0      2002\n",
      "1      2007\n",
      "2      2006\n",
      "3      1999\n",
      "4      1971\n",
      "5      1988\n",
      "6      1988\n",
      "7      1990\n",
      "8      2005\n",
      "9      1988\n",
      "10     2002\n",
      "11     1979\n",
      "12     2007\n",
      "13     2006\n",
      "14     1980\n",
      "15     2007\n",
      "16     1985\n",
      "17     1981\n",
      "18     2000\n",
      "19     1993\n",
      "20     1998\n",
      "21     1979\n",
      "22     2006\n",
      "23     2008\n",
      "24     1998\n",
      "25     1992\n",
      "26     1976\n",
      "27     2005\n",
      "28     2007\n",
      "29     2002\n",
      "       ... \n",
      "391    1995\n",
      "392    2005\n",
      "393    2008\n",
      "394    2005\n",
      "395    2000\n",
      "396    1983\n",
      "397    1985\n",
      "398    2006\n",
      "399    2007\n",
      "400    2004\n",
      "401    2007\n",
      "402    2008\n",
      "403    2005\n",
      "404    2001\n",
      "405    2000\n",
      "406    2002\n",
      "407    1968\n",
      "408    1969\n",
      "409    2000\n",
      "410    2003\n",
      "411    2006\n",
      "412    2002\n",
      "413    2005\n",
      "414    1974\n",
      "415    2000\n",
      "416    2007\n",
      "417    1967\n",
      "418    2007\n",
      "419    2001\n",
      "420    1964\n",
      "Name: Year, Length: 421, dtype: int64\n"
     ]
    }
   ],
   "source": [
    "print(film_deaths['Year'])\n",
    "#print(film_deaths['Body_Count'])"
   ]
  },
  {
   "cell_type": "markdown",
   "metadata": {},
   "source": [
    "This shows the number of deaths per film across the years. We can plot the data as follows."
   ]
  },
  {
   "cell_type": "code",
   "execution_count": 7,
   "metadata": {},
   "outputs": [
    {
     "data": {
      "text/plain": [
       "[<matplotlib.lines.Line2D at 0x11148b780>]"
      ]
     },
     "execution_count": 7,
     "metadata": {},
     "output_type": "execute_result"
    },
    {
     "data": {
      "image/png": "[encoded data removed]",
      "text/plain": [
       "<Figure size 432x288 with 1 Axes>"
      ]
     },
     "metadata": {},
     "output_type": "display_data"
    }
   ],
   "source": [
    "# this ensures the plot appears in the web browser\n",
    "%matplotlib inline \n",
    "import pylab as plt # this imports the plotting library in python\n",
    "\n",
    "plt.plot(film_deaths['Year'], film_deaths['Body_Count'], 'b<')"
   ]
  },
  {
   "cell_type": "markdown",
   "metadata": {},
   "source": [
    "You may be curious what the arguments we give to plt.plot are for, now is the perfect time to look at the documentation"
   ]
  },
  {
   "cell_type": "code",
   "execution_count": 8,
   "metadata": {},
   "outputs": [],
   "source": [
    "plt.plot?"
   ]
  },
  {
   "cell_type": "markdown",
   "metadata": {},
   "source": [
    "We immediately note that some films have a lot of deaths, which prevent us seeing the detail of the main body of films. First lets identify the films with the most deaths."
   ]
  },
  {
   "cell_type": "code",
   "execution_count": 9,
   "metadata": {},
   "outputs": [
    {
     "data": {
      "text/html": [
       "<div>\n",
       "<style scoped>\n",
       "    .dataframe tbody tr th:only-of-type {\n",
       "        vertical-align: middle;\n",
       "    }\n",
       "\n",
       "    .dataframe tbody tr th {\n",
       "        vertical-align: top;\n",
       "    }\n",
       "\n",
       "    .dataframe thead th {\n",
       "        text-align: right;\n",
       "    }\n",
       "</style>\n",
       "<table border=\"1\" class=\"dataframe\">\n",
       "  <thead>\n",
       "    <tr style=\"text-align: right;\">\n",
       "      <th></th>\n",
       "      <th>Film</th>\n",
       "      <th>Year</th>\n",
       "      <th>Body_Count</th>\n",
       "      <th>MPAA_Rating</th>\n",
       "      <th>Genre</th>\n",
       "      <th>Director</th>\n",
       "      <th>Actors</th>\n",
       "      <th>Length_Minutes</th>\n",
       "      <th>IMDB_Rating</th>\n",
       "    </tr>\n",
       "  </thead>\n",
       "  <tbody>\n",
       "    <tr>\n",
       "      <th>60</th>\n",
       "      <td>Dip huet gaai tau</td>\n",
       "      <td>1990</td>\n",
       "      <td>214</td>\n",
       "      <td>NaN</td>\n",
       "      <td>Crime|Drama|Thriller</td>\n",
       "      <td>John Woo</td>\n",
       "      <td>Tony Leung Chiu Wai|Jacky Cheung|Waise Lee|Sim...</td>\n",
       "      <td>136</td>\n",
       "      <td>7.7</td>\n",
       "    </tr>\n",
       "    <tr>\n",
       "      <th>117</th>\n",
       "      <td>Equilibrium</td>\n",
       "      <td>2002</td>\n",
       "      <td>236</td>\n",
       "      <td>R</td>\n",
       "      <td>Action|Drama|Sci-Fi|Thriller</td>\n",
       "      <td>Kurt Wimmer</td>\n",
       "      <td>Christian Bale|Dominic Purcell|Sean Bean|Chris...</td>\n",
       "      <td>107</td>\n",
       "      <td>7.6</td>\n",
       "    </tr>\n",
       "    <tr>\n",
       "      <th>154</th>\n",
       "      <td>Grindhouse</td>\n",
       "      <td>2007</td>\n",
       "      <td>310</td>\n",
       "      <td>R</td>\n",
       "      <td>Action|Horror|Thriller</td>\n",
       "      <td>Robert Rodriguez|Eli Roth|Quentin Tarantino|Ed...</td>\n",
       "      <td>Kurt Russell|Zoë Bell|Rosario Dawson|Vanessa F...</td>\n",
       "      <td>191</td>\n",
       "      <td>7.7</td>\n",
       "    </tr>\n",
       "    <tr>\n",
       "      <th>159</th>\n",
       "      <td>Lat sau san taam</td>\n",
       "      <td>1992</td>\n",
       "      <td>307</td>\n",
       "      <td>R</td>\n",
       "      <td>Action|Crime|Drama|Thriller</td>\n",
       "      <td>John Woo</td>\n",
       "      <td>Yun-Fat Chow|Tony Leung Chiu Wai|Teresa Mo|Phi...</td>\n",
       "      <td>128</td>\n",
       "      <td>8.0</td>\n",
       "    </tr>\n",
       "    <tr>\n",
       "      <th>193</th>\n",
       "      <td>Kingdom of Heaven</td>\n",
       "      <td>2005</td>\n",
       "      <td>610</td>\n",
       "      <td>R</td>\n",
       "      <td>Action|Adventure|Drama|History|War</td>\n",
       "      <td>Ridley Scott</td>\n",
       "      <td>Martin Hancock|Michael Sheen|Nathalie Cox|Eriq...</td>\n",
       "      <td>144</td>\n",
       "      <td>7.2</td>\n",
       "    </tr>\n",
       "    <tr>\n",
       "      <th>206</th>\n",
       "      <td>The Last Samurai</td>\n",
       "      <td>2003</td>\n",
       "      <td>558</td>\n",
       "      <td>R</td>\n",
       "      <td>Action|Drama|History|War</td>\n",
       "      <td>Edward Zwick</td>\n",
       "      <td>Ken Watanabe|Tom Cruise|William Atherton|Chad ...</td>\n",
       "      <td>154</td>\n",
       "      <td>7.7</td>\n",
       "    </tr>\n",
       "    <tr>\n",
       "      <th>222</th>\n",
       "      <td>The Lord of the Rings: The Two Towers</td>\n",
       "      <td>2002</td>\n",
       "      <td>468</td>\n",
       "      <td>PG-13</td>\n",
       "      <td>Action|Adventure|Fantasy</td>\n",
       "      <td>Peter Jackson</td>\n",
       "      <td>Bruce Allpress|Sean Astin|John Bach|Sala Baker...</td>\n",
       "      <td>179</td>\n",
       "      <td>8.8</td>\n",
       "    </tr>\n",
       "    <tr>\n",
       "      <th>223</th>\n",
       "      <td>The Lord of the Rings: The Return of the King</td>\n",
       "      <td>2003</td>\n",
       "      <td>836</td>\n",
       "      <td>PG-13</td>\n",
       "      <td>Action|Adventure|Fantasy</td>\n",
       "      <td>Peter Jackson</td>\n",
       "      <td>Noel Appleby|Alexandra Astin|Sean Astin|David ...</td>\n",
       "      <td>201</td>\n",
       "      <td>8.9</td>\n",
       "    </tr>\n",
       "    <tr>\n",
       "      <th>291</th>\n",
       "      <td>Rambo</td>\n",
       "      <td>2008</td>\n",
       "      <td>247</td>\n",
       "      <td>R</td>\n",
       "      <td>Action|Thriller|War</td>\n",
       "      <td>Sylvester Stallone</td>\n",
       "      <td>Sylvester Stallone|Julie Benz|Matthew Marsden|...</td>\n",
       "      <td>92</td>\n",
       "      <td>7.1</td>\n",
       "    </tr>\n",
       "    <tr>\n",
       "      <th>317</th>\n",
       "      <td>Saving Private Ryan</td>\n",
       "      <td>1998</td>\n",
       "      <td>255</td>\n",
       "      <td>R</td>\n",
       "      <td>Action|Drama|War</td>\n",
       "      <td>Steven Spielberg</td>\n",
       "      <td>Tom Hanks|Tom Sizemore|Edward Burns|Barry Pepp...</td>\n",
       "      <td>169</td>\n",
       "      <td>8.6</td>\n",
       "    </tr>\n",
       "    <tr>\n",
       "      <th>349</th>\n",
       "      <td>Starship Troopers</td>\n",
       "      <td>1997</td>\n",
       "      <td>256</td>\n",
       "      <td>R</td>\n",
       "      <td>Action|Sci-Fi</td>\n",
       "      <td>Paul Verhoeven</td>\n",
       "      <td>Casper Van Dien|Dina Meyer|Denise Richards|Jak...</td>\n",
       "      <td>129</td>\n",
       "      <td>7.2</td>\n",
       "    </tr>\n",
       "    <tr>\n",
       "      <th>375</th>\n",
       "      <td>Titanic</td>\n",
       "      <td>1997</td>\n",
       "      <td>307</td>\n",
       "      <td>PG-13</td>\n",
       "      <td>Drama|Romance</td>\n",
       "      <td>James Cameron</td>\n",
       "      <td>Leonardo DiCaprio|Kate Winslet|Billy Zane|Kath...</td>\n",
       "      <td>194</td>\n",
       "      <td>7.7</td>\n",
       "    </tr>\n",
       "    <tr>\n",
       "      <th>382</th>\n",
       "      <td>Troy</td>\n",
       "      <td>2004</td>\n",
       "      <td>572</td>\n",
       "      <td>R</td>\n",
       "      <td>Adventure|Drama</td>\n",
       "      <td>Wolfgang Petersen</td>\n",
       "      <td>Julian Glover|Brian Cox|Nathan Jones|Adoni Mar...</td>\n",
       "      <td>163</td>\n",
       "      <td>7.2</td>\n",
       "    </tr>\n",
       "    <tr>\n",
       "      <th>406</th>\n",
       "      <td>We Were Soldiers</td>\n",
       "      <td>2002</td>\n",
       "      <td>305</td>\n",
       "      <td>R</td>\n",
       "      <td>Action|Drama|History|War</td>\n",
       "      <td>Randall Wallace</td>\n",
       "      <td>Mel Gibson|Madeleine Stowe|Greg Kinnear|Sam El...</td>\n",
       "      <td>138</td>\n",
       "      <td>7.1</td>\n",
       "    </tr>\n",
       "  </tbody>\n",
       "</table>\n",
       "</div>"
      ],
      "text/plain": [
       "                                              Film  Year  Body_Count  \\\n",
       "60                               Dip huet gaai tau  1990         214   \n",
       "117                                    Equilibrium  2002         236   \n",
       "154                                     Grindhouse  2007         310   \n",
       "159                               Lat sau san taam  1992         307   \n",
       "193                              Kingdom of Heaven  2005         610   \n",
       "206                               The Last Samurai  2003         558   \n",
       "222          The Lord of the Rings: The Two Towers  2002         468   \n",
       "223  The Lord of the Rings: The Return of the King  2003         836   \n",
       "291                                          Rambo  2008         247   \n",
       "317                            Saving Private Ryan  1998         255   \n",
       "349                              Starship Troopers  1997         256   \n",
       "375                                        Titanic  1997         307   \n",
       "382                                           Troy  2004         572   \n",
       "406                               We Were Soldiers  2002         305   \n",
       "\n",
       "    MPAA_Rating                               Genre  \\\n",
       "60          NaN                Crime|Drama|Thriller   \n",
       "117           R        Action|Drama|Sci-Fi|Thriller   \n",
       "154           R              Action|Horror|Thriller   \n",
       "159           R         Action|Crime|Drama|Thriller   \n",
       "193           R  Action|Adventure|Drama|History|War   \n",
       "206           R            Action|Drama|History|War   \n",
       "222       PG-13            Action|Adventure|Fantasy   \n",
       "223       PG-13            Action|Adventure|Fantasy   \n",
       "291           R                 Action|Thriller|War   \n",
       "317           R                    Action|Drama|War   \n",
       "349           R                       Action|Sci-Fi   \n",
       "375       PG-13                       Drama|Romance   \n",
       "382           R                     Adventure|Drama   \n",
       "406           R            Action|Drama|History|War   \n",
       "\n",
       "                                              Director  \\\n",
       "60                                            John Woo   \n",
       "117                                        Kurt Wimmer   \n",
       "154  Robert Rodriguez|Eli Roth|Quentin Tarantino|Ed...   \n",
       "159                                           John Woo   \n",
       "193                                       Ridley Scott   \n",
       "206                                       Edward Zwick   \n",
       "222                                      Peter Jackson   \n",
       "223                                      Peter Jackson   \n",
       "291                                 Sylvester Stallone   \n",
       "317                                   Steven Spielberg   \n",
       "349                                     Paul Verhoeven   \n",
       "375                                      James Cameron   \n",
       "382                                  Wolfgang Petersen   \n",
       "406                                    Randall Wallace   \n",
       "\n",
       "                                                Actors  Length_Minutes  \\\n",
       "60   Tony Leung Chiu Wai|Jacky Cheung|Waise Lee|Sim...             136   \n",
       "117  Christian Bale|Dominic Purcell|Sean Bean|Chris...             107   \n",
       "154  Kurt Russell|Zoë Bell|Rosario Dawson|Vanessa F...             191   \n",
       "159  Yun-Fat Chow|Tony Leung Chiu Wai|Teresa Mo|Phi...             128   \n",
       "193  Martin Hancock|Michael Sheen|Nathalie Cox|Eriq...             144   \n",
       "206  Ken Watanabe|Tom Cruise|William Atherton|Chad ...             154   \n",
       "222  Bruce Allpress|Sean Astin|John Bach|Sala Baker...             179   \n",
       "223  Noel Appleby|Alexandra Astin|Sean Astin|David ...             201   \n",
       "291  Sylvester Stallone|Julie Benz|Matthew Marsden|...              92   \n",
       "317  Tom Hanks|Tom Sizemore|Edward Burns|Barry Pepp...             169   \n",
       "349  Casper Van Dien|Dina Meyer|Denise Richards|Jak...             129   \n",
       "375  Leonardo DiCaprio|Kate Winslet|Billy Zane|Kath...             194   \n",
       "382  Julian Glover|Brian Cox|Nathan Jones|Adoni Mar...             163   \n",
       "406  Mel Gibson|Madeleine Stowe|Greg Kinnear|Sam El...             138   \n",
       "\n",
       "     IMDB_Rating  \n",
       "60           7.7  \n",
       "117          7.6  \n",
       "154          7.7  \n",
       "159          8.0  \n",
       "193          7.2  \n",
       "206          7.7  \n",
       "222          8.8  \n",
       "223          8.9  \n",
       "291          7.1  \n",
       "317          8.6  \n",
       "349          7.2  \n",
       "375          7.7  \n",
       "382          7.2  \n",
       "406          7.1  "
      ]
     },
     "execution_count": 9,
     "metadata": {},
     "output_type": "execute_result"
    }
   ],
   "source": [
    "film_deaths[film_deaths['Body_Count']>200]"
   ]
  },
  {
   "cell_type": "markdown",
   "metadata": {},
   "source": [
    "Here we are using the command `film_deaths['Body_Count']>200` to index the films in the pandas data frame which have over 200 deaths. To sort them in order we can also use the `sort` command. The result of this command on its own is a data series of `True` and `False` values. However, when it is passed to the `film_deaths` data frame it returns a new data frame which contains only those values for which the data series is `True`. We can also sort the result. To sort the result by the values in the `Body_Count` column in *descending* order we use the following command."
   ]
  },
  {
   "cell_type": "code",
   "execution_count": 10,
   "metadata": {},
   "outputs": [
    {
     "data": {
      "text/html": [
       "<div>\n",
       "<style scoped>\n",
       "    .dataframe tbody tr th:only-of-type {\n",
       "        vertical-align: middle;\n",
       "    }\n",
       "\n",
       "    .dataframe tbody tr th {\n",
       "        vertical-align: top;\n",
       "    }\n",
       "\n",
       "    .dataframe thead th {\n",
       "        text-align: right;\n",
       "    }\n",
       "</style>\n",
       "<table border=\"1\" class=\"dataframe\">\n",
       "  <thead>\n",
       "    <tr style=\"text-align: right;\">\n",
       "      <th></th>\n",
       "      <th>Film</th>\n",
       "      <th>Year</th>\n",
       "      <th>Body_Count</th>\n",
       "      <th>MPAA_Rating</th>\n",
       "      <th>Genre</th>\n",
       "      <th>Director</th>\n",
       "      <th>Actors</th>\n",
       "      <th>Length_Minutes</th>\n",
       "      <th>IMDB_Rating</th>\n",
       "    </tr>\n",
       "  </thead>\n",
       "  <tbody>\n",
       "    <tr>\n",
       "      <th>223</th>\n",
       "      <td>The Lord of the Rings: The Return of the King</td>\n",
       "      <td>2003</td>\n",
       "      <td>836</td>\n",
       "      <td>PG-13</td>\n",
       "      <td>Action|Adventure|Fantasy</td>\n",
       "      <td>Peter Jackson</td>\n",
       "      <td>Noel Appleby|Alexandra Astin|Sean Astin|David ...</td>\n",
       "      <td>201</td>\n",
       "      <td>8.9</td>\n",
       "    </tr>\n",
       "    <tr>\n",
       "      <th>193</th>\n",
       "      <td>Kingdom of Heaven</td>\n",
       "      <td>2005</td>\n",
       "      <td>610</td>\n",
       "      <td>R</td>\n",
       "      <td>Action|Adventure|Drama|History|War</td>\n",
       "      <td>Ridley Scott</td>\n",
       "      <td>Martin Hancock|Michael Sheen|Nathalie Cox|Eriq...</td>\n",
       "      <td>144</td>\n",
       "      <td>7.2</td>\n",
       "    </tr>\n",
       "    <tr>\n",
       "      <th>382</th>\n",
       "      <td>Troy</td>\n",
       "      <td>2004</td>\n",
       "      <td>572</td>\n",
       "      <td>R</td>\n",
       "      <td>Adventure|Drama</td>\n",
       "      <td>Wolfgang Petersen</td>\n",
       "      <td>Julian Glover|Brian Cox|Nathan Jones|Adoni Mar...</td>\n",
       "      <td>163</td>\n",
       "      <td>7.2</td>\n",
       "    </tr>\n",
       "    <tr>\n",
       "      <th>206</th>\n",
       "      <td>The Last Samurai</td>\n",
       "      <td>2003</td>\n",
       "      <td>558</td>\n",
       "      <td>R</td>\n",
       "      <td>Action|Drama|History|War</td>\n",
       "      <td>Edward Zwick</td>\n",
       "      <td>Ken Watanabe|Tom Cruise|William Atherton|Chad ...</td>\n",
       "      <td>154</td>\n",
       "      <td>7.7</td>\n",
       "    </tr>\n",
       "    <tr>\n",
       "      <th>222</th>\n",
       "      <td>The Lord of the Rings: The Two Towers</td>\n",
       "      <td>2002</td>\n",
       "      <td>468</td>\n",
       "      <td>PG-13</td>\n",
       "      <td>Action|Adventure|Fantasy</td>\n",
       "      <td>Peter Jackson</td>\n",
       "      <td>Bruce Allpress|Sean Astin|John Bach|Sala Baker...</td>\n",
       "      <td>179</td>\n",
       "      <td>8.8</td>\n",
       "    </tr>\n",
       "    <tr>\n",
       "      <th>154</th>\n",
       "      <td>Grindhouse</td>\n",
       "      <td>2007</td>\n",
       "      <td>310</td>\n",
       "      <td>R</td>\n",
       "      <td>Action|Horror|Thriller</td>\n",
       "      <td>Robert Rodriguez|Eli Roth|Quentin Tarantino|Ed...</td>\n",
       "      <td>Kurt Russell|Zoë Bell|Rosario Dawson|Vanessa F...</td>\n",
       "      <td>191</td>\n",
       "      <td>7.7</td>\n",
       "    </tr>\n",
       "    <tr>\n",
       "      <th>159</th>\n",
       "      <td>Lat sau san taam</td>\n",
       "      <td>1992</td>\n",
       "      <td>307</td>\n",
       "      <td>R</td>\n",
       "      <td>Action|Crime|Drama|Thriller</td>\n",
       "      <td>John Woo</td>\n",
       "      <td>Yun-Fat Chow|Tony Leung Chiu Wai|Teresa Mo|Phi...</td>\n",
       "      <td>128</td>\n",
       "      <td>8.0</td>\n",
       "    </tr>\n",
       "    <tr>\n",
       "      <th>375</th>\n",
       "      <td>Titanic</td>\n",
       "      <td>1997</td>\n",
       "      <td>307</td>\n",
       "      <td>PG-13</td>\n",
       "      <td>Drama|Romance</td>\n",
       "      <td>James Cameron</td>\n",
       "      <td>Leonardo DiCaprio|Kate Winslet|Billy Zane|Kath...</td>\n",
       "      <td>194</td>\n",
       "      <td>7.7</td>\n",
       "    </tr>\n",
       "    <tr>\n",
       "      <th>406</th>\n",
       "      <td>We Were Soldiers</td>\n",
       "      <td>2002</td>\n",
       "      <td>305</td>\n",
       "      <td>R</td>\n",
       "      <td>Action|Drama|History|War</td>\n",
       "      <td>Randall Wallace</td>\n",
       "      <td>Mel Gibson|Madeleine Stowe|Greg Kinnear|Sam El...</td>\n",
       "      <td>138</td>\n",
       "      <td>7.1</td>\n",
       "    </tr>\n",
       "    <tr>\n",
       "      <th>349</th>\n",
       "      <td>Starship Troopers</td>\n",
       "      <td>1997</td>\n",
       "      <td>256</td>\n",
       "      <td>R</td>\n",
       "      <td>Action|Sci-Fi</td>\n",
       "      <td>Paul Verhoeven</td>\n",
       "      <td>Casper Van Dien|Dina Meyer|Denise Richards|Jak...</td>\n",
       "      <td>129</td>\n",
       "      <td>7.2</td>\n",
       "    </tr>\n",
       "    <tr>\n",
       "      <th>317</th>\n",
       "      <td>Saving Private Ryan</td>\n",
       "      <td>1998</td>\n",
       "      <td>255</td>\n",
       "      <td>R</td>\n",
       "      <td>Action|Drama|War</td>\n",
       "      <td>Steven Spielberg</td>\n",
       "      <td>Tom Hanks|Tom Sizemore|Edward Burns|Barry Pepp...</td>\n",
       "      <td>169</td>\n",
       "      <td>8.6</td>\n",
       "    </tr>\n",
       "    <tr>\n",
       "      <th>291</th>\n",
       "      <td>Rambo</td>\n",
       "      <td>2008</td>\n",
       "      <td>247</td>\n",
       "      <td>R</td>\n",
       "      <td>Action|Thriller|War</td>\n",
       "      <td>Sylvester Stallone</td>\n",
       "      <td>Sylvester Stallone|Julie Benz|Matthew Marsden|...</td>\n",
       "      <td>92</td>\n",
       "      <td>7.1</td>\n",
       "    </tr>\n",
       "    <tr>\n",
       "      <th>117</th>\n",
       "      <td>Equilibrium</td>\n",
       "      <td>2002</td>\n",
       "      <td>236</td>\n",
       "      <td>R</td>\n",
       "      <td>Action|Drama|Sci-Fi|Thriller</td>\n",
       "      <td>Kurt Wimmer</td>\n",
       "      <td>Christian Bale|Dominic Purcell|Sean Bean|Chris...</td>\n",
       "      <td>107</td>\n",
       "      <td>7.6</td>\n",
       "    </tr>\n",
       "    <tr>\n",
       "      <th>60</th>\n",
       "      <td>Dip huet gaai tau</td>\n",
       "      <td>1990</td>\n",
       "      <td>214</td>\n",
       "      <td>NaN</td>\n",
       "      <td>Crime|Drama|Thriller</td>\n",
       "      <td>John Woo</td>\n",
       "      <td>Tony Leung Chiu Wai|Jacky Cheung|Waise Lee|Sim...</td>\n",
       "      <td>136</td>\n",
       "      <td>7.7</td>\n",
       "    </tr>\n",
       "  </tbody>\n",
       "</table>\n",
       "</div>"
      ],
      "text/plain": [
       "                                              Film  Year  Body_Count  \\\n",
       "223  The Lord of the Rings: The Return of the King  2003         836   \n",
       "193                              Kingdom of Heaven  2005         610   \n",
       "382                                           Troy  2004         572   \n",
       "206                               The Last Samurai  2003         558   \n",
       "222          The Lord of the Rings: The Two Towers  2002         468   \n",
       "154                                     Grindhouse  2007         310   \n",
       "159                               Lat sau san taam  1992         307   \n",
       "375                                        Titanic  1997         307   \n",
       "406                               We Were Soldiers  2002         305   \n",
       "349                              Starship Troopers  1997         256   \n",
       "317                            Saving Private Ryan  1998         255   \n",
       "291                                          Rambo  2008         247   \n",
       "117                                    Equilibrium  2002         236   \n",
       "60                               Dip huet gaai tau  1990         214   \n",
       "\n",
       "    MPAA_Rating                               Genre  \\\n",
       "223       PG-13            Action|Adventure|Fantasy   \n",
       "193           R  Action|Adventure|Drama|History|War   \n",
       "382           R                     Adventure|Drama   \n",
       "206           R            Action|Drama|History|War   \n",
       "222       PG-13            Action|Adventure|Fantasy   \n",
       "154           R              Action|Horror|Thriller   \n",
       "159           R         Action|Crime|Drama|Thriller   \n",
       "375       PG-13                       Drama|Romance   \n",
       "406           R            Action|Drama|History|War   \n",
       "349           R                       Action|Sci-Fi   \n",
       "317           R                    Action|Drama|War   \n",
       "291           R                 Action|Thriller|War   \n",
       "117           R        Action|Drama|Sci-Fi|Thriller   \n",
       "60          NaN                Crime|Drama|Thriller   \n",
       "\n",
       "                                              Director  \\\n",
       "223                                      Peter Jackson   \n",
       "193                                       Ridley Scott   \n",
       "382                                  Wolfgang Petersen   \n",
       "206                                       Edward Zwick   \n",
       "222                                      Peter Jackson   \n",
       "154  Robert Rodriguez|Eli Roth|Quentin Tarantino|Ed...   \n",
       "159                                           John Woo   \n",
       "375                                      James Cameron   \n",
       "406                                    Randall Wallace   \n",
       "349                                     Paul Verhoeven   \n",
       "317                                   Steven Spielberg   \n",
       "291                                 Sylvester Stallone   \n",
       "117                                        Kurt Wimmer   \n",
       "60                                            John Woo   \n",
       "\n",
       "                                                Actors  Length_Minutes  \\\n",
       "223  Noel Appleby|Alexandra Astin|Sean Astin|David ...             201   \n",
       "193  Martin Hancock|Michael Sheen|Nathalie Cox|Eriq...             144   \n",
       "382  Julian Glover|Brian Cox|Nathan Jones|Adoni Mar...             163   \n",
       "206  Ken Watanabe|Tom Cruise|William Atherton|Chad ...             154   \n",
       "222  Bruce Allpress|Sean Astin|John Bach|Sala Baker...             179   \n",
       "154  Kurt Russell|Zoë Bell|Rosario Dawson|Vanessa F...             191   \n",
       "159  Yun-Fat Chow|Tony Leung Chiu Wai|Teresa Mo|Phi...             128   \n",
       "375  Leonardo DiCaprio|Kate Winslet|Billy Zane|Kath...             194   \n",
       "406  Mel Gibson|Madeleine Stowe|Greg Kinnear|Sam El...             138   \n",
       "349  Casper Van Dien|Dina Meyer|Denise Richards|Jak...             129   \n",
       "317  Tom Hanks|Tom Sizemore|Edward Burns|Barry Pepp...             169   \n",
       "291  Sylvester Stallone|Julie Benz|Matthew Marsden|...              92   \n",
       "117  Christian Bale|Dominic Purcell|Sean Bean|Chris...             107   \n",
       "60   Tony Leung Chiu Wai|Jacky Cheung|Waise Lee|Sim...             136   \n",
       "\n",
       "     IMDB_Rating  \n",
       "223          8.9  \n",
       "193          7.2  \n",
       "382          7.2  \n",
       "206          7.7  \n",
       "222          8.8  \n",
       "154          7.7  \n",
       "159          8.0  \n",
       "375          7.7  \n",
       "406          7.1  \n",
       "349          7.2  \n",
       "317          8.6  \n",
       "291          7.1  \n",
       "117          7.6  \n",
       "60           7.7  "
      ]
     },
     "execution_count": 10,
     "metadata": {},
     "output_type": "execute_result"
    }
   ],
   "source": [
    "film_deaths[film_deaths['Body_Count']>200].sort_values('Body_Count', ascending=False)"
   ]
  },
  {
   "cell_type": "markdown",
   "metadata": {},
   "source": [
    "We now see that the 'Lord of the Rings' is a large outlier with a very large number of kills. We can try and determine how much of an outlier by histograming the data. "
   ]
  },
  {
   "cell_type": "markdown",
   "metadata": {},
   "source": [
    "### Plotting the Data"
   ]
  },
  {
   "cell_type": "code",
   "execution_count": 11,
   "metadata": {
    "scrolled": true
   },
   "outputs": [
    {
     "data": {
      "text/plain": [
       "Text(0.5,1,'Histogram of Film Kill Count')"
      ]
     },
     "execution_count": 11,
     "metadata": {},
     "output_type": "execute_result"
    },
    {
     "data": {
      "image/png": "[encoded data removed]",
      "text/plain": [
       "<Figure size 432x288 with 1 Axes>"
      ]
     },
     "metadata": {},
     "output_type": "display_data"
    }
   ],
   "source": [
    "film_deaths['Body_Count'].hist(bins=20) # histogram the data with 20 bins.\n",
    "plt.title('Histogram of Film Kill Count')"
   ]
  },
  {
   "cell_type": "markdown",
   "metadata": {},
   "source": [
    "### Assignment Question 2 \n",
    "Read on the internet about the following python libraries: `numpy`, `matplotlib`, `scipy` and `pandas`. What functionality does each provide in python. What is the `pylab` library and how does it relate to the other libraries?\n",
    "\n",
    "*10 marks*"
   ]
  },
  {
   "cell_type": "markdown",
   "metadata": {},
   "source": [
    "#### Question 2 Answer\n",
    "\n",
    "`numpy`: is used for scientific computing with Python. NumPy provides N-dimensional arrays and math.\n",
    "\n",
    "`matplotlib`: is used to generate plots, histograms, power spectra, bar charts, errorcharts, scatterplots, etc. In other words, Matplotlib is a plotting library, using numpy\n",
    "\n",
    "`scipy`: is used for scientific and technical computing. Likewise Matplotlib, Scipy is also using numpy.\n",
    "\n",
    "`pandas`: is used for data manipulation and analysis. Pandas provide fast, flexible, and expressive data structures. \n",
    "\n",
    "`pylab`: provides a Matlab-like experience to the users. Pylab imports portions of Matplotlib, Scipy and NumPy.\n",
    "\n",
    "##### References\n",
    "1. Numpy.org. (2018). NumPy — NumPy. [online] Available at: http://www.numpy.org .\n",
    "2. Matplotlib.org. (2018). Matplotlib: Python plotting — Matplotlib 3.0.0 documentation. [online] Available at: https://matplotlib.org .\n",
    "3. Scipy.org. (2018). SciPy.org — SciPy.org. [online] Available at: https://www.scipy.org .\n",
    "4. Pandas.pydata.org. (2018). Python Data Analysis Library — pandas: Python Data Analysis Library. [online] Available at: https://pandas.pydata.org .\n",
    "5. Scipy.github.io. (2018). PyLab - SciPy wiki dump. [online] Available at: https://scipy.github.io/old-wiki/pages/PyLab .\n",
    "6. Slater, J. (2018). A Brief Introduction to SciPy, NumPy, Matplotlib, and PyLab. [online] Inside the Ivory Tower. Available at: http://josephcslater.github.io/scipy-numpy-matplotlib-pylab.html ."
   ]
  },
  {
   "cell_type": "markdown",
   "metadata": {},
   "source": [
    "We could try and remove these outliers, but another approach would be to plot the logarithm of the counts against the year."
   ]
  },
  {
   "cell_type": "code",
   "execution_count": 12,
   "metadata": {
    "scrolled": true
   },
   "outputs": [
    {
     "data": {
      "text/plain": [
       "Text(0.5,0,'year')"
      ]
     },
     "execution_count": 12,
     "metadata": {},
     "output_type": "execute_result"
    },
    {
     "data": {
      "image/png": "[encoded data removed]",
      "text/plain": [
       "<Figure size 432x288 with 1 Axes>"
      ]
     },
     "metadata": {},
     "output_type": "display_data"
    }
   ],
   "source": [
    "plt.plot(film_deaths['Year'], film_deaths['Body_Count'], 'rx')\n",
    "ax = plt.gca() # obtain a handle to the current axis\n",
    "ax.set_yscale('log') # use a logarithmic death scale\n",
    "# give the plot some titles and labels\n",
    "plt.title('Film Deaths against Year')\n",
    "plt.ylabel('deaths')\n",
    "plt.xlabel('year')"
   ]
  },
  {
   "cell_type": "markdown",
   "metadata": {},
   "source": [
    "Note a few things. We are interacting with our data. In particular, we are replotting the data according to what we have learned so far. We are using the progamming language as a *scripting* language to give the computer one command or another, and then the next command we enter is dependent on the result of the previous. This is a very different paradigm to classical software engineering. In classical software engineering we normally write many lines of code (entire object classes or functions) before compiling the code and running it. Our approach is more similar to the approach we take whilst debugging. Historically, researchers interacted with data using a *console*. A command line window which allowed command entry. The notebook format we are using is slightly different. Each of the code entry boxes acts like a separate console window. We can move up and down the notebook and run each part in a different order. The *state* of the program is always as we left it after running the previous part.  "
   ]
  },
  {
   "cell_type": "markdown",
   "metadata": {},
   "source": [
    "### Assignment Question 3\n",
    "\n",
    "What is jupyter and why was it invented? Give some examples of functionality it gives over standard python. What is the jupyter project? Name two languages involved in the Jupyter project other than python.\n",
    "\n",
    "*10 marks*"
   ]
  },
  {
   "cell_type": "markdown",
   "metadata": {},
   "source": [
    "#### Question 3 Answer\n",
    "\n",
    "Jupyter is an interactive computing environment that allows you to create and share documents that contain narrative text, live code, plots, equations, images and videos. The intuitive workflow promotes iteractive and rapid development, and for that Jupyter Notebook is preferred as a tool for data cleaning and transformation, numerical simulation, machine learning, etc. \n",
    "\n",
    "The Jupyter project was invented by Fernando Pérez in 2014, and is the successor to the earlier IPython Notebook, which was first published as a prototype in 2010. Jupyter Project is built for writing and sharing code and text, within the context of a web page. Since Jupyter is non-profit organisation, Jupyter is developed on GitHub, through the consensus of the Jupyter community.  Except python there are two more languages involved in the Jupyter project: Julia and R.\n",
    "\n",
    "There are three applications that come from the Jupyter Project:\n",
    "1. Jupyter Notebook:  provides facilities that are available in typical Interactive Development Environments (IDEs) such as code completion, autosave and easy access to help.\n",
    "2. Jupyter Console: has the ability to connect to any Jupyter kernel instead of only to IPython.\n",
    "3. Qt Console: started as a part of IPython project, but moved to Jupyter Project. It has the ability to use features that are only possible to a GUI.\n",
    "\n",
    "##### References\n",
    "1. Jupyter.org. (2018). Project Jupyter. [online] Available at: http://jupyter.org/about .\n",
    "2. En.wikipedia.org. (2018). Project Jupyter. [online] Available at: https://en.wikipedia.org/wiki/Project_Jupyter .\n",
    "3. Loukides, M. (2018). What is Jupyter?. [online] O'Reilly Media. Available at: https://www.oreilly.com/ideas/what-is-jupyter .\n",
    "4. https://www.quora.com/What-are-the-pros-and-cons-of-using-Python-Jupyter-versus-a-normal-Python-development-environment\n",
    "5. Unidata.github.io. (2018). Why Python and Jupyter Notebooks?. [online] Available at: https://unidata.github.io/online-python-training/introduction.html .\n",
    "6. Jupyter-notebook.readthedocs.io. (2018). What is the Jupyter Notebook? — Jupyter Notebook 5.7.0 documentation. [online] Available at: https://jupyter-notebook.readthedocs.io/en/stable/examples/Notebook/What%20is%20the%20Jupyter%20Notebook.html .\n",
    "7. Shen, H. (2014). Interactive notebooks: Sharing the code. Nature, 515(7525), pp.151-152.\n",
    "8. Dataquest Data Science Blog. (2018). Jupiter Notebook for Beginners: A tutorial. [online] Available at: https://www.dataquest.io/blog/jupyter-notebook-tutorial/ [Accessed 2 Oct. 2018]."
   ]
  },
  {
   "cell_type": "markdown",
   "metadata": {},
   "source": [
    "## Probabilities\n",
    "\n",
    "We are now going to do some simple review of probabilities and use this review to explore some aspects of our data.\n",
    "\n",
    "A probability distribution expresses uncertainty about the outcome of an event. We often encode this uncertainty in a variable. So if we are considering the outcome of an event, $Y$, to be a coin toss, then we might consider $Y=1$ to be heads and $Y=0$ to be tails. We represent the probability of a given outcome with the notation:\n",
    "$$\n",
    "P(Y=1) = 0.5\n",
    "$$\n",
    "The first rule of probability is that the probability must normalize. The sum of the probability of all events must equal 1. So if the probability of heads ($Y=1$) is 0.5, then the probability of tails (the only other possible outcome) is given by\n",
    "$$\n",
    "P(Y=0) = 1-P(Y=1) = 0.5\n",
    "$$\n",
    "\n",
    "Probabilities are often defined as the limit of the ratio between the number of positive outcomes (e.g. *heads*) given the number of trials. If the number of positive outcomes for event $y$ is denoted by $n_y$ and the number of trials is denoted by $N$ then this gives the ratio \n",
    "$$\n",
    "P(Y=y) = \\lim_{N\\rightarrow \\infty}\\frac{n_y}{N}.\n",
    "$$\n",
    "In practice we never get to observe an event infinite times, so rather than considering this we often use the following estimate\n",
    "$$\n",
    "P(Y=y) \\approx \\frac{n_y}{N}.\n",
    "$$\n",
    "Let's use this rule to compute the approximate probability that a film from the movie body count website has over 40 deaths."
   ]
  },
  {
   "cell_type": "code",
   "execution_count": 13,
   "metadata": {},
   "outputs": [
    {
     "name": "stdout",
     "output_type": "stream",
     "text": [
      "Probability of deaths being greather than 40 is: 0.37767220902612825\n"
     ]
    }
   ],
   "source": [
    "deaths = (film_deaths.Body_Count>40).sum()  # number of positive outcomes (in sum True counts as 1, False counts as 0)\n",
    "total_films = film_deaths.Body_Count.count()\n",
    "#prob_death = float(deaths)/float(total_films)\n",
    "prob_death = deaths/total_films\n",
    "print(\"Probability of deaths being greather than 40 is:\", prob_death)"
   ]
  },
  {
   "cell_type": "markdown",
   "metadata": {},
   "source": [
    "### Assignment Question 4\n",
    "\n",
    "We now have an estimate of the probability a film has greater than 40 deaths. The estimate seems quite high. What could be wrong with the estimate? Do you think any film you go to in the cinema has this probability of having greater than 40 deaths?\n",
    "\n",
    "Why did we have to use `float` around our counts of deaths and total films? What would the answer have been if we hadn't used the `float` command? If we were using Python 3 would we have this problem?\n",
    "\n",
    "*20 marks*"
   ]
  },
  {
   "cell_type": "markdown",
   "metadata": {},
   "source": [
    "#### Question 4 Answer\n",
    "This estimate is based in 421 films that we have as instances, and probably these movies represent the \"deadliest films\". However, the production of films per year is huge, so the amount 421 is not representative of the production of movies, which means that the calculated estimate probably is wrong. If we had selected different movies for our dataset then the estimate would have been different. From my point of view, the calculated estimate is greater than the real probability of watching a movie with greater than 40 deaths.\n",
    "\n",
    "If we didn't use Python 3, and we hadn't used the `float` command then the result would have been different, since the \"/\" operator works as a floor division for integer arguments. If we want our result to be float, then we should use `float` around our integers. However, in Python 3, \"/\" operator does floating point division for both int and float arguments."
   ]
  },
  {
   "cell_type": "markdown",
   "metadata": {},
   "source": [
    "# Conditioning\n",
    "\n",
    "When predicting whether a coin turns up head or tails, we might think that this event is *independent* of the year or time of day. If we include an observation such as time, then in a probability this is known as *conditioning*. We use this notation, $P(Y=y|T=t)$, to condition the outcome on a second variable (in this case time). Or, often, for a shorthand we use $P(y|t)$ to represent this distribution (the $Y=$ and $T=$ being implicit). Because we don't believe a coin toss depends on time then we might write that \n",
    "$$\n",
    "P(y|t) = p(y).\n",
    "$$\n",
    "However, we might believe that the number of deaths is dependent on the year. For this we can try estimating $P(Y>40 | T=2000)$ and compare the result, for example to $P(Y>40|2002)$ using our empirical estimate of the probability."
   ]
  },
  {
   "cell_type": "code",
   "execution_count": 20,
   "metadata": {},
   "outputs": [
    {
     "name": "stdout",
     "output_type": "stream",
     "text": [
      "Probability of deaths being greather than 40 in year 2000 is: 0.16666666666666666\n",
      "Probability of deaths being greather than 40 in year 2002 is: 0.4074074074074074\n"
     ]
    }
   ],
   "source": [
    "for year in [2000, 2002]:\n",
    "    deaths = (film_deaths.Body_Count[film_deaths.Year==year]>40).sum()\n",
    "    total_films = (film_deaths.Year==year).sum()\n",
    "\n",
    "    prob_death = float(deaths)/float(total_films)\n",
    "    print(\"Probability of deaths being greather than 40 in year\", year, \"is:\", prob_death)\n",
    "      "
   ]
  },
  {
   "cell_type": "markdown",
   "metadata": {},
   "source": [
    "### Assignment Question 5\n",
    "\n",
    "Compute the probability for the number of deaths being over 40 for each year we have in our `film_deaths` data frame. Store the result in a `numpy` array and plot the probabilities against the years using the `plot` command from `matplotlib`. Do you think the estimate we have created of $P(y|t)$ is a good estimate? Write your code and your written answers in the box below.  \n",
    "\n",
    "*20 marks*"
   ]
  },
  {
   "cell_type": "code",
   "execution_count": 15,
   "metadata": {},
   "outputs": [
    {
     "name": "stdout",
     "output_type": "stream",
     "text": [
      "3789\n"
     ]
    },
    {
     "data": {
      "text/plain": [
       "Text(0.5,0,'year')"
      ]
     },
     "execution_count": 15,
     "metadata": {},
     "output_type": "execute_result"
    },
    {
     "data": {
      "image/png": "[encoded data removed]",
      "text/plain": [
       "<Figure size 432x288 with 1 Axes>"
      ]
     },
     "metadata": {},
     "output_type": "display_data"
    }
   ],
   "source": [
    "# Question 5 Answer Code\n",
    "# Write code for you answer to this question in this box\n",
    "# Do not delete these comments, otherwise you will get zero for this answer.\n",
    "# Make sure your code has run and the answer is correct *before* submitting your notebook for marking.\n",
    "import numpy as np\n",
    "\n",
    "prb = np.array([])\n",
    "for year in film_deaths.Year.unique():\n",
    "    deaths = (film_deaths.Body_Count[film_deaths.Year==year]>40).sum()\n",
    "    total_films = (film_deaths.Year==year).sum()\n",
    "    prob_death = float(deaths)/float(total_films)\n",
    "    prb = np.append(prb,prob_death)\n",
    "\n",
    "print(film_deaths.size)\n",
    "plt.plot(film_deaths.Year.unique(), prb, 'bx')\n",
    "plt.title('Probability of deaths being greater than 40 against Year')\n",
    "plt.ylabel('probability')\n",
    "plt.xlabel('year')\n"
   ]
  },
  {
   "cell_type": "markdown",
   "metadata": {},
   "source": [
    "#### Question 5 Answer Text\n",
    "Likewise before, this estimate is based on certain movies that we have in order dataset. We can see that in some years (especialy between 1960 and 1970) the possibility of watching a movie with more than 40 deaths is equal to 1!!! That means that every movie produced in that year will certainly have more than 40 deaths, which is not true. So, I would say that the estimate we have created of P(y|t) is not a good estimate."
   ]
  },
  {
   "cell_type": "markdown",
   "metadata": {},
   "source": [
    "#### Notes for Question 5\n",
    "\n",
    "Make sure the plot is included in *this* notebook file (the `IPython` magic command `%matplotlib inline` we ran above will do that for you, it only needs to be run once per file)."
   ]
  },
  {
   "cell_type": "markdown",
   "metadata": {},
   "source": [
    "### Rules of Probability\n",
    "\n",
    "We've now introduced conditioning and independence to the notion of probability and computed some conditional probabilities on a practical example The scatter plot of deaths vs year that we created above can be seen as a *joint* probability distribution. We represent a joint probability using the notation $P(Y=y, T=t)$ or $P(y, t)$ for short. Computing a joint probability is equivalent to answering the simultaneous questions, what's the probability that the number of deaths was over 40 and the year was 2002? Or any other question that may occur to us. Again we can easily use pandas to ask such questions.\n"
   ]
  },
  {
   "cell_type": "code",
   "execution_count": 16,
   "metadata": {},
   "outputs": [
    {
     "name": "stdout",
     "output_type": "stream",
     "text": [
      "Probability of deaths being greather than 40 and year being 2000 is: 0.007125890736342043\n"
     ]
    }
   ],
   "source": [
    "year = 2000\n",
    "deaths = (film_deaths.Body_Count[film_deaths.Year==year]>40).sum()\n",
    "total_films = film_deaths.Body_Count.count() # this is total number of films\n",
    "prob_death = float(deaths)/float(total_films)\n",
    "print(\"Probability of deaths being greather than 40 and year being\", year, \"is:\", prob_death)"
   ]
  },
  {
   "cell_type": "markdown",
   "metadata": {},
   "source": [
    "### The Product Rule\n",
    "\n",
    "This number is the joint probability, $P(Y, T)$ which is much *smaller* than the conditional probability. The number can never be bigger than the conditional probability because it is computed using the *product rule*.\n",
    "$$\n",
    "p(Y=y, T=t) = p(Y=y|T=t)p(T=t)\n",
    "$$\n",
    "and $$p(T=t)$$ is a probability distribution, which is equal or less than 1, ensuring the joint distribution is typically smaller than the conditional distribution.\n",
    "\n",
    "The product rule is a *fundamental* rule of probability, and you must remember it! It gives the relationship between the two questions: 1) What's the probability that a film was made in 2002 and has over 40 deaths? and 2) What's the probability that a film has over 40 deaths given that it was made in 2002?\n",
    "\n",
    "In our shorter notation we can write the product rule as\n",
    "$$\n",
    "p(y, t) = p(y|t)p(t)\n",
    "$$\n",
    "We can see the relation working in practice for our data above by computing the different values for $t=2000$."
   ]
  },
  {
   "cell_type": "code",
   "execution_count": 17,
   "metadata": {},
   "outputs": [
    {
     "name": "stdout",
     "output_type": "stream",
     "text": [
      "P(t) is 0.06413301662707839\n",
      "P(y|t) is 0.4074074074074074\n",
      "P(y,t) is 0.026128266033254157\n"
     ]
    }
   ],
   "source": [
    "p_t = float((film_deaths.Year==2002).sum())/float(film_deaths.Body_Count.count())\n",
    "p_y_given_t = float((film_deaths.Body_Count[film_deaths.Year==2002]>40).sum())/float((film_deaths.Year==2002).sum())\n",
    "p_y_and_t = float((film_deaths.Body_Count[film_deaths.Year==2002]>40).sum())/float(film_deaths.Body_Count.count())\n",
    "\n",
    "print(\"P(t) is\", p_t)\n",
    "print(\"P(y|t) is\", p_y_given_t)\n",
    "print(\"P(y,t) is\", p_y_and_t)"
   ]
  },
  {
   "cell_type": "markdown",
   "metadata": {},
   "source": [
    "### The Sum Rule\n",
    "\n",
    "The other *fundamental rule* of probability is the *sum rule* this tells us how to get a *marginal* distribution from the joint distribution. Simply put it says that we need to sum across the value we'd like to remove.\n",
    "$$\n",
    "P(Y=y) = \\sum_{t} P(Y=y, T=t)\n",
    "$$\n",
    "Or in our shortened notation\n",
    "$$\n",
    "P(y) = \\sum_{t} P(y, t)\n",
    "$$"
   ]
  },
  {
   "cell_type": "markdown",
   "metadata": {},
   "source": [
    "### Assignment Question 6\n",
    "\n",
    "Write code that computes $P(y)$ by adding $P(y, t)$ for all values of $t$. \n",
    "\n",
    "*10 marks*"
   ]
  },
  {
   "cell_type": "code",
   "execution_count": 18,
   "metadata": {},
   "outputs": [
    {
     "name": "stdout",
     "output_type": "stream",
     "text": [
      "P(y) is 0.3776722090261285\n"
     ]
    }
   ],
   "source": [
    "# Question 6 Answer Code\n",
    "# Write code for you answer to this question in this box\n",
    "# Do not delete these comments, otherwise you will get zero for this answer.\n",
    "# Make sure your code has run and the answer is correct *before* submitting your notebook for marking.\n",
    "\n",
    "p_y = 0.0\n",
    "for year in film_deaths.Year.unique():\n",
    "    p_y_and_t = float((film_deaths.Body_Count[film_deaths.Year==year]>40).sum())/float(film_deaths.Body_Count.count())\n",
    "    p_y += p_y_and_t\n",
    "    \n",
    "print(\"P(y) is\", p_y)"
   ]
  },
  {
   "cell_type": "markdown",
   "metadata": {},
   "source": [
    "## Bayes' Rule\n",
    "\n",
    "Bayes rule is a very simple rule, it's hardly worth the name of a rule at all. It follows directly from the product rule of probability. Because $P(y, t) = P(y|t)P(t)$ and by symmetry $P(y,t)=P(t,y)=P(t|y)P(y)$ then by equating these two equations and dividing through by $P(y)$ we have\n",
    "$$\n",
    "P(t|y) = \\frac{P(y|t)P(t)}{P(y)},\n",
    "$$\n",
    "which is known as Bayes' rule (or Bayes's rule, it depends how you choose to pronounce it). It's not difficult to derive, and its importance is more to do with the semantic operation that it enables. Each of these probability distributions represents the answer to a question we have about the world. Bayes rule (via the product rule) tells us how to *invert* the probability."
   ]
  },
  {
   "cell_type": "markdown",
   "metadata": {},
   "source": [
    "## Probabilities for Extracting Information from Data\n",
    "\n",
    "What use is all this probability in data science? Let's think about how we might use the probabilities to do some decision making. Let's load up a little more information about the movies."
   ]
  },
  {
   "cell_type": "code",
   "execution_count": 19,
   "metadata": {},
   "outputs": [
    {
     "data": {
      "text/plain": [
       "Index(['Film', 'Year', 'Body_Count', 'MPAA_Rating', 'Genre', 'Director',\n",
       "       'Actors', 'Length_Minutes', 'IMDB_Rating'],\n",
       "      dtype='object')"
      ]
     },
     "execution_count": 19,
     "metadata": {},
     "output_type": "execute_result"
    }
   ],
   "source": [
    "movies = pd.read_csv('./R-vs-Python-master/Deadliest movies scrape/code/film-death-counts-Python.csv')\n",
    "movies.columns"
   ]
  },
  {
   "cell_type": "markdown",
   "metadata": {},
   "source": [
    "### Assignment Question 7\n",
    "\n",
    "Now we see we have several additional features including the quality rating (`IMDB_Rating`). Let's assume we want to predict the rating given the other information in the data base. How would we go about doing it? \n",
    "\n",
    "Using what you've learnt about joint, conditional and marginal probabilities, as well as the sum and product rule, how would you formulate the question you want to answer in terms of probabilities? Should you be using a joint or a conditional distribution? If it's conditional, what should the distribution be over, and what should it be conditioned on?\n",
    "\n",
    "*20 marks*"
   ]
  },
  {
   "cell_type": "markdown",
   "metadata": {},
   "source": [
    "#### Question 7 Answer Text\n",
    "\n",
    "The best criterias for predicting the rating of a movie are the actors and the director. Personally I don't think that the other features could influence the imdb_rating significantly. \n",
    "For computing the rating of a movie, I would use a combination of joint and conditional probabilities, as well as the Bayes Rule and the product rule. So we would have the following equation:\n",
    "$$\n",
    "P(R|(A,D)) = \\frac{P((A,D)|R) P(R)}{P(A,D)},\n",
    "$$\n",
    "where $R$ = IMDB_rating, $A$ = Actors, $D$ = Directors.\n",
    "If we want to be even more precise we could combine also the genre, as some actors or directors are better to specific genres than other genres. In that way, the equation would be very complex."
   ]
  },
  {
   "cell_type": "markdown",
   "metadata": {},
   "source": [
    "## Assignment Questions\n",
    "\n",
    "The questions in the above lab sheet need to be answered and handed in before 23:59 on 5th October 2018. The hand should be done via file upload through [MOLE](https://www.sheffield.ac.uk/cics/mole). "
   ]
  },
  {
   "cell_type": "markdown",
   "metadata": {},
   "source": [
    "## More Fun on the Python Data Farm\n",
    "\n",
    "If you want to explore more of the things you can do with movies and python you might be interested in the `imdbpy` python library. \n",
    "\n",
    "You can try installing it using `easy_install` as follows."
   ]
  },
  {
   "cell_type": "code",
   "execution_count": 62,
   "metadata": {},
   "outputs": [
    {
     "name": "stdout",
     "output_type": "stream",
     "text": [
      "Searching for IMDbPY\n",
      "Reading https://pypi.org/simple/IMDbPY/\n",
      "Downloading https://files.pythonhosted.org/packages/0c/83/6754013ef7a9086ce57a9a2bac33066fe0fbe022d8b668cc483cf9324dd7/IMDbPY-6.6-py3-none-any.whl#sha256=4f4aeaeafde7db6e6e7a499b52b7003b25d9aadab338e1ad5f492a691f71a4b1\n",
      "Best match: IMDbPY 6.6\n",
      "Processing IMDbPY-6.6-py3-none-any.whl\n",
      "removing '/Users/lidaptr/anaconda3/lib/python3.6/site-packages/IMDbPY-6.6-py3.6.egg' (and everything under it)\n",
      "Installing IMDbPY-6.6-py3-none-any.whl to /Users/lidaptr/anaconda3/lib/python3.6/site-packages\n",
      "writing requirements to /Users/lidaptr/anaconda3/lib/python3.6/site-packages/IMDbPY-6.6-py3.6.egg/EGG-INFO/requires.txt\n",
      "IMDbPY 6.6 is already the active version in easy-install.pth\n",
      "Installing search_character.py script to /Users/lidaptr/anaconda3/bin\n",
      "Installing get_first_person.py script to /Users/lidaptr/anaconda3/bin\n",
      "Installing s32imdbpy.py script to /Users/lidaptr/anaconda3/bin\n",
      "Installing search_keyword.py script to /Users/lidaptr/anaconda3/bin\n",
      "Installing get_keyword.py script to /Users/lidaptr/anaconda3/bin\n",
      "Installing get_character.py script to /Users/lidaptr/anaconda3/bin\n",
      "Installing imdbpy2sql.py script to /Users/lidaptr/anaconda3/bin\n",
      "Installing get_first_character.py script to /Users/lidaptr/anaconda3/bin\n",
      "Installing search_company.py script to /Users/lidaptr/anaconda3/bin\n",
      "Installing get_company.py script to /Users/lidaptr/anaconda3/bin\n",
      "Installing get_movie.py script to /Users/lidaptr/anaconda3/bin\n",
      "Installing get_first_company.py script to /Users/lidaptr/anaconda3/bin\n",
      "Installing get_top_bottom_movies.py script to /Users/lidaptr/anaconda3/bin\n",
      "Installing get_first_movie.py script to /Users/lidaptr/anaconda3/bin\n",
      "Installing search_movie.py script to /Users/lidaptr/anaconda3/bin\n",
      "Installing get_person.py script to /Users/lidaptr/anaconda3/bin\n",
      "Installing search_person.py script to /Users/lidaptr/anaconda3/bin\n",
      "Installing imdbpy script to /Users/lidaptr/anaconda3/bin\n",
      "\n",
      "Installed /Users/lidaptr/anaconda3/lib/python3.6/site-packages/IMDbPY-6.6-py3.6.egg\n",
      "Processing dependencies for IMDbPY\n",
      "Finished processing dependencies for IMDbPY\n"
     ]
    }
   ],
   "source": [
    "!easy_install -U IMDbPY"
   ]
  },
  {
   "cell_type": "markdown",
   "metadata": {},
   "source": [
    "If this doesn't work on your machine, try following instructions on (http://imdbpy.sourceforge.net/)\n",
    "\n",
    "Once you've installed `imdbpy` you can test it works with the following script, which should list movies with the word 'python' in their title. To run the code in the following box, simply click the box and press `SHIFT-enter` or `CTRL-enter`. Then you can try running the code below."
   ]
  },
  {
   "cell_type": "code",
   "execution_count": 18,
   "metadata": {
    "scrolled": true
   },
   "outputs": [
    {
     "name": "stdout",
     "output_type": "stream",
     "text": [
      "Soap\n",
      "Snakes on a Plane\n",
      "A Soap\n",
      "Whisper of the Heart\n",
      "Soapdish\n",
      "Whispers in the Dark\n",
      "Whisper\n",
      "The Boob Tube\n",
      "Dropping the Soap\n",
      "Soap\n",
      "Microsoap\n",
      "Soap\n",
      "Soap Opera\n",
      "The Soap\n",
      "Dirty Soap\n",
      "No Soap, Radio\n",
      "Soap\n",
      "Soap\n",
      "The Wandering Soap Opera\n",
      "Soap\n"
     ]
    }
   ],
   "source": [
    "from imdb import IMDb\n",
    "ia = IMDb()\n",
    "\n",
    "for movie in ia.search_movie('soap'):\n",
    "    print(movie) "
   ]
  },
  {
   "cell_type": "code",
   "execution_count": 59,
   "metadata": {},
   "outputs": [
    {
     "data": {
      "image/jpeg": "[encoded data removed]",
      "text/html": [
       "\n",
       "        <iframe\n",
       "            width=\"400\"\n",
       "            height=\"300\"\n",
       "            src=\"https://www.youtube.com/embed/GX8VLYUYScM\"\n",
       "            frameborder=\"0\"\n",
       "            allowfullscreen\n",
       "        ></iframe>\n",
       "        "
      ],
      "text/plain": [
       "<IPython.lib.display.YouTubeVideo at 0xb18898978>"
      ]
     },
     "execution_count": 59,
     "metadata": {},
     "output_type": "execute_result"
    }
   ],
   "source": [
    "from IPython.display import YouTubeVideo\n",
    "YouTubeVideo('GX8VLYUYScM')"
   ]
  },
  {
   "cell_type": "code",
   "execution_count": null,
   "metadata": {},
   "outputs": [],
   "source": []
  }
 ],
 "metadata": {
  "anaconda-cloud": {},
  "kernelspec": {
   "display_name": "Python 3",
   "language": "python",
   "name": "python3"
  },
  "language_info": {
   "codemirror_mode": {
    "name": "ipython",
    "version": 3
   },
   "file_extension": ".py",
   "mimetype": "text/x-python",
   "name": "python",
   "nbconvert_exporter": "python",
   "pygments_lexer": "ipython3",
   "version": "3.6.5"
  }
 },
 "nbformat": 4,
 "nbformat_minor": 1
}
